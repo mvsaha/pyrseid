{
 "cells": [
  {
   "cell_type": "code",
   "execution_count": 3,
   "metadata": {
    "collapsed": false
   },
   "outputs": [],
   "source": [
    "import os\n",
    "import sys\n",
    "sys.path.append('/Users/Michael_Saha/Repositories')\n",
    "import geospatial\n",
    "import geospatial.download\n",
    "import geospatial.utils\n",
    "import geospatial.platforms.modis as modis\n",
    "from geospatial.product import BaseProduct\n",
    "from geospatial.tile import BaseTile\n",
    "from geospatial.file import BaseFile\n",
    "from geospatial import Range\n",
    "from geospatial.download import *\n",
    "import datetime"
   ]
  },
  {
   "cell_type": "code",
   "execution_count": 4,
   "metadata": {
    "collapsed": true
   },
   "outputs": [],
   "source": [
    "import geospatial"
   ]
  },
  {
   "cell_type": "code",
   "execution_count": 5,
   "metadata": {
    "collapsed": false
   },
   "outputs": [
    {
     "data": {
      "text/plain": [
       "<module 'geospatial.platforms' from '/Users/Michael_Saha/Repositories\\\\geospatial\\\\platforms\\\\__init__.py'>"
      ]
     },
     "execution_count": 5,
     "metadata": {},
     "output_type": "execute_result"
    }
   ],
   "source": [
    "geospatial.platforms"
   ]
  },
  {
   "cell_type": "code",
   "execution_count": 6,
   "metadata": {
    "collapsed": false
   },
   "outputs": [],
   "source": [
    "prod = modis.Product('MCD45A1.051')"
   ]
  },
  {
   "cell_type": "code",
   "execution_count": 7,
   "metadata": {
    "collapsed": false
   },
   "outputs": [
    {
     "data": {
      "text/plain": [
       "modis.Tile(h10v02)"
      ]
     },
     "execution_count": 7,
     "metadata": {},
     "output_type": "execute_result"
    }
   ],
   "source": [
    "modis.Tile(h=10,v=2)"
   ]
  },
  {
   "cell_type": "code",
   "execution_count": 8,
   "metadata": {
    "collapsed": false,
    "scrolled": true
   },
   "outputs": [
    {
     "data": {
      "text/plain": [
       "File(MODIS.Product(MCD45A1, version=051, level=3), 2000-06-01 00:00:00, h20v11)"
      ]
     },
     "execution_count": 8,
     "metadata": {},
     "output_type": "execute_result"
    }
   ],
   "source": [
    "fstr = (\"B:\\\\DATA\\\\MODIS\\\\MCD45A1.051\\\\2000.06.01/\"\n",
    "        \"MCD45A1.A2000153.h20v11.051.2013079184658.hdf\")\n",
    "f = modis.File.from_path(fstr)\n",
    "f"
   ]
  },
  {
   "cell_type": "code",
   "execution_count": 9,
   "metadata": {
    "collapsed": false
   },
   "outputs": [
    {
     "data": {
      "text/plain": [
       "{datetime.datetime(2015, 1, 1, 0, 0): 'http://e4ftl01.cr.usgs.gov/MOTA/MCD45A1.051/2015.01.01',\n",
       " datetime.datetime(2015, 2, 1, 0, 0): 'http://e4ftl01.cr.usgs.gov/MOTA/MCD45A1.051/2015.02.01',\n",
       " datetime.datetime(2015, 3, 1, 0, 0): 'http://e4ftl01.cr.usgs.gov/MOTA/MCD45A1.051/2015.03.01',\n",
       " datetime.datetime(2015, 4, 1, 0, 0): 'http://e4ftl01.cr.usgs.gov/MOTA/MCD45A1.051/2015.04.01',\n",
       " datetime.datetime(2015, 5, 1, 0, 0): 'http://e4ftl01.cr.usgs.gov/MOTA/MCD45A1.051/2015.05.01',\n",
       " datetime.datetime(2015, 6, 1, 0, 0): 'http://e4ftl01.cr.usgs.gov/MOTA/MCD45A1.051/2015.06.01',\n",
       " datetime.datetime(2015, 7, 1, 0, 0): 'http://e4ftl01.cr.usgs.gov/MOTA/MCD45A1.051/2015.07.01',\n",
       " datetime.datetime(2015, 8, 1, 0, 0): 'http://e4ftl01.cr.usgs.gov/MOTA/MCD45A1.051/2015.08.01',\n",
       " datetime.datetime(2015, 9, 1, 0, 0): 'http://e4ftl01.cr.usgs.gov/MOTA/MCD45A1.051/2015.09.01',\n",
       " datetime.datetime(2015, 10, 1, 0, 0): 'http://e4ftl01.cr.usgs.gov/MOTA/MCD45A1.051/2015.10.01',\n",
       " datetime.datetime(2015, 11, 1, 0, 0): 'http://e4ftl01.cr.usgs.gov/MOTA/MCD45A1.051/2015.11.01'}"
      ]
     },
     "execution_count": 9,
     "metadata": {},
     "output_type": "execute_result"
    }
   ],
   "source": [
    "dates = Range(datetime.datetime(2015,1,1), datetime.datetime(2016,4,1))\n",
    "ad = modis.available_dates(prod, dates)\n",
    "ad"
   ]
  },
  {
   "cell_type": "code",
   "execution_count": 27,
   "metadata": {
    "collapsed": false
   },
   "outputs": [
    {
     "name": "stdout",
     "output_type": "stream",
     "text": []
    }
   ],
   "source": [
    "dr = Range(datetime.datetime(2015,1,1), datetime.datetime(2015,12,1))\n",
    "af = modis.available_files(prod, dates=dr, tiles=[modis.Tile(h=19,v=10)])"
   ]
  },
  {
   "cell_type": "code",
   "execution_count": 28,
   "metadata": {
    "collapsed": false
   },
   "outputs": [
    {
     "data": {
      "text/plain": [
       "[File(MODIS.Product(MCD45A1, version=051, level=3), 2015-01-01 00:00:00, h19v10),\n",
       " File(MODIS.Product(MCD45A1, version=051, level=3), 2015-02-01 00:00:00, h19v10),\n",
       " File(MODIS.Product(MCD45A1, version=051, level=3), 2015-03-01 00:00:00, h19v10),\n",
       " File(MODIS.Product(MCD45A1, version=051, level=3), 2015-04-01 00:00:00, h19v10),\n",
       " File(MODIS.Product(MCD45A1, version=051, level=3), 2015-05-01 00:00:00, h19v10),\n",
       " File(MODIS.Product(MCD45A1, version=051, level=3), 2015-06-01 00:00:00, h19v10),\n",
       " File(MODIS.Product(MCD45A1, version=051, level=3), 2015-07-01 00:00:00, h19v10),\n",
       " File(MODIS.Product(MCD45A1, version=051, level=3), 2015-08-01 00:00:00, h19v10),\n",
       " File(MODIS.Product(MCD45A1, version=051, level=3), 2015-09-01 00:00:00, h19v10),\n",
       " File(MODIS.Product(MCD45A1, version=051, level=3), 2015-10-01 00:00:00, h19v10),\n",
       " File(MODIS.Product(MCD45A1, version=051, level=3), 2015-11-01 00:00:00, h19v10)]"
      ]
     },
     "execution_count": 28,
     "metadata": {},
     "output_type": "execute_result"
    }
   ],
   "source": [
    "af"
   ]
  },
  {
   "cell_type": "code",
   "execution_count": 29,
   "metadata": {
    "collapsed": false
   },
   "outputs": [
    {
     "data": {
      "text/plain": [
       "[File(MODIS.Product(MCD45A1, version=051, level=3), 2015-05-01 00:00:00, h19v10),\n",
       " File(MODIS.Product(MCD45A1, version=051, level=3), 2015-06-01 00:00:00, h19v10),\n",
       " File(MODIS.Product(MCD45A1, version=051, level=3), 2015-07-01 00:00:00, h19v10),\n",
       " File(MODIS.Product(MCD45A1, version=051, level=3), 2015-08-01 00:00:00, h19v10),\n",
       " File(MODIS.Product(MCD45A1, version=051, level=3), 2015-09-01 00:00:00, h19v10),\n",
       " File(MODIS.Product(MCD45A1, version=051, level=3), 2015-10-01 00:00:00, h19v10),\n",
       " File(MODIS.Product(MCD45A1, version=051, level=3), 2015-11-01 00:00:00, h19v10)]"
      ]
     },
     "execution_count": 29,
     "metadata": {},
     "output_type": "execute_result"
    }
   ],
   "source": [
    "modis.have_files(modfolder, prod, dr)"
   ]
  },
  {
   "cell_type": "code",
   "execution_count": 30,
   "metadata": {
    "collapsed": true
   },
   "outputs": [],
   "source": [
    "modfolder  = \"C:/Users/Michael_Saha/Desktop/MODIS/\""
   ]
  },
  {
   "cell_type": "code",
   "execution_count": 32,
   "metadata": {
    "collapsed": false
   },
   "outputs": [
    {
     "name": "stdout",
     "output_type": "stream",
     "text": []
    }
   ],
   "source": [
    "files = modis.grab_files(af, modfolder=modfolder)"
   ]
  },
  {
   "cell_type": "code",
   "execution_count": null,
   "metadata": {
    "collapsed": true
   },
   "outputs": [],
   "source": []
  }
 ],
 "metadata": {
  "kernelspec": {
   "display_name": "Python 3",
   "language": "python",
   "name": "python3"
  },
  "language_info": {
   "codemirror_mode": {
    "name": "ipython",
    "version": 3
   },
   "file_extension": ".py",
   "mimetype": "text/x-python",
   "name": "python",
   "nbconvert_exporter": "python",
   "pygments_lexer": "ipython3",
   "version": "3.4.4"
  }
 },
 "nbformat": 4,
 "nbformat_minor": 0
}
